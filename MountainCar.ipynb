{
 "cells": [
  {
   "cell_type": "code",
   "execution_count": 301,
   "id": "4e7e183f",
   "metadata": {},
   "outputs": [],
   "source": [
    "import gym\n",
    "import numpy as np\n",
    "import math\n",
    "\n",
    "\n",
    "class MountainCarAgent():\n",
    "    def __init__(self, buckets=(4, 2), num_episodes=200, min_lr=0.01, min_explore=0.1, discount=0.4, decay=25):\n",
    "        self.buckets = buckets\n",
    "        self.num_episodes = num_episodes\n",
    "        self.min_lr = min_lr\n",
    "        self.min_explore = min_explore\n",
    "        self.discount = discount\n",
    "        self.decay = decay\n",
    "        self.env = gym.make('MountainCar-v0')\n",
    "        self.upper_bounds = [self.env.observation_space.high[0], self.env.observation_space.high[1]]\n",
    "        self.lower_bounds = [self.env.observation_space.low[0], self.env.observation_space.low[1]]\n",
    "        self.Q_table = np.zeros(self.buckets + (self.env.action_space.n,))\n",
    "        self.N = np.zeros(self.buckets + (self.env.action_space.n,))\n",
    "\n",
    "    def get_explore_rate(self, t):\n",
    "        return max(self.min_explore, min(1., 1. - math.log10((t + 1) / self.decay)))\n",
    "\n",
    "    def get_lr(self, t):\n",
    "        return max(self.min_lr, min(1., 1. - math.log10((t + 1) / self.decay)))\n",
    "\n",
    "    def mc_update(self, current_state, new_state, reward, old_action, action,i):\n",
    "        q = self.Q_table[current_state][old_action]\n",
    "        q += (1/i)*(reward - q)\n",
    "        self.Q_table[current_state][old_action] = q\n",
    " \n",
    "    def sarsa_update(self, current_state, new_state, reward, old_action, action,i):\n",
    "            q = self.Q_table[current_state][old_action]\n",
    "            q += self.lr*(reward+self.discount*self.Q_table[new_state][action] - q)\n",
    "            self.Q_table[current_state][old_action] = q\n",
    "            \n",
    "    def ql_update(self, current_state, new_state, reward, old_action, action,i):\n",
    "            q = self.Q_table[current_state][old_action]\n",
    "            q += self.lr*(reward+self.discount*np.max(self.Q_table[new_state]) - q)\n",
    "            self.Q_table[current_state][old_action] = q\n",
    "        \n",
    "    def choose_action(self, state):\n",
    "        x = (np.random.uniform(0, 1))\n",
    "        if  x < self.explore_rate:\n",
    "            return self.env.action_space.sample()\n",
    "        else:\n",
    "            return np.argmax(self.Q_table[state])\n",
    "        \n",
    "\n",
    "    def discretize_state(self, obs):\n",
    "        discretized = list()\n",
    "        for i in range(len(obs)):\n",
    "            scaling = (obs[i] + abs(self.lower_bounds[i])) / (self.upper_bounds[i] - self.lower_bounds[i])\n",
    "            new_obs = int(np.round((self.buckets[i] - 1) * scaling))\n",
    "            new_obs = min(self.buckets[i] - 1, max(0, new_obs))\n",
    "            discretized.append(new_obs)\n",
    "        return tuple(discretized)\n",
    "\n",
    "    def train(self, method='mc'):\n",
    "        losses=[]\n",
    "        for i, e in enumerate(range(self.num_episodes)):\n",
    "            i+=1\n",
    "#             print(\"Start\")/\n",
    "            total_R=0\n",
    "            current_state = self.discretize_state(self.env.reset(options={(-0.6,-0.4), 0})[0])\n",
    "            self.lr = self.get_lr(e)\n",
    "            self.explore_rate = self.get_explore_rate(e)\n",
    "            termintated, truncated, position, end = False,False,False,False\n",
    "            old_action = 1\n",
    "            steps=0\n",
    "            while not any([termintated, truncated, position, end]):\n",
    "                steps+=1\n",
    "                end = steps==200\n",
    "                action = self.choose_action(current_state)\n",
    "                obs, reward, termintated, truncated, _ = self.env.step(action)\n",
    "                position = obs[0]>=0.5\n",
    "                new_state = self.discretize_state(obs)\n",
    "                \n",
    "                total_R+=reward\n",
    "\n",
    "                if method == 'mc':\n",
    "                    self.mc_update(current_state, new_state, total_R, old_action, action,i)\n",
    "                if method == 'sarsa':\n",
    "                    self.sarsa_update(current_state, new_state, total_R, old_action, action,i)\n",
    "                if method == 'ql':\n",
    "                    self.ql_update(current_state, new_state, total_R, old_action, action,i)\n",
    "                    \n",
    "                current_state = new_state\n",
    "                old_action = action\n",
    "            losses.append(total_R)\n",
    "            if position == True:\n",
    "                print('At episode: ', e, ', Win!!!', sep='')\n",
    "#             self.mc_update(current_state, new_state, total_R, old_action, action,i)\n",
    "\n",
    "        print('Finished training!')\n",
    "        return losses\n",
    "\n",
    "    def run(self):\n",
    "       \n",
    "        self.env = gym.make('MountainCar-v0', render_mode='human')\n",
    "        current_state = self.discretize_state(self.env.reset(options={(-0.6,-0.4), 0})[0])\n",
    "        steps=0\n",
    "        termintated, truncated, position, end = False,False,False,False\n",
    "        while not any([termintated, truncated, position, end]):\n",
    "            steps+=1\n",
    "            end = steps==200\n",
    "            action = self.choose_action(current_state)\n",
    "#             print(action)\n",
    "            obs, reward, termintated, truncated, _ = self.env.step(action)\n",
    "            position = obs[0]>=0.5\n",
    "            current_state = self.discretize_state(obs)\n",
    "        if position == True:\n",
    "            print('Win!!!')\n",
    "            \n",
    "        self.env.close()"
   ]
  },
  {
   "cell_type": "code",
   "execution_count": 302,
   "id": "0486baf1",
   "metadata": {},
   "outputs": [
    {
     "name": "stdout",
     "output_type": "stream",
     "text": [
      "At episode: 122, Win!!!\n",
      "At episode: 123, Win!!!\n",
      "At episode: 124, Win!!!\n",
      "At episode: 125, Win!!!\n",
      "At episode: 126, Win!!!\n",
      "At episode: 127, Win!!!\n",
      "At episode: 128, Win!!!\n",
      "At episode: 130, Win!!!\n",
      "At episode: 131, Win!!!\n",
      "At episode: 132, Win!!!\n",
      "At episode: 133, Win!!!\n",
      "At episode: 134, Win!!!\n",
      "At episode: 135, Win!!!\n",
      "At episode: 136, Win!!!\n",
      "At episode: 137, Win!!!\n",
      "At episode: 139, Win!!!\n",
      "At episode: 140, Win!!!\n",
      "At episode: 142, Win!!!\n",
      "At episode: 143, Win!!!\n",
      "At episode: 144, Win!!!\n",
      "At episode: 145, Win!!!\n",
      "At episode: 146, Win!!!\n",
      "At episode: 147, Win!!!\n",
      "At episode: 148, Win!!!\n",
      "At episode: 149, Win!!!\n",
      "At episode: 150, Win!!!\n",
      "At episode: 151, Win!!!\n",
      "At episode: 152, Win!!!\n",
      "At episode: 153, Win!!!\n",
      "At episode: 154, Win!!!\n",
      "At episode: 155, Win!!!\n",
      "At episode: 156, Win!!!\n",
      "At episode: 157, Win!!!\n",
      "At episode: 158, Win!!!\n",
      "At episode: 159, Win!!!\n",
      "At episode: 160, Win!!!\n",
      "At episode: 161, Win!!!\n",
      "At episode: 162, Win!!!\n",
      "At episode: 163, Win!!!\n",
      "At episode: 164, Win!!!\n",
      "At episode: 165, Win!!!\n",
      "At episode: 166, Win!!!\n",
      "At episode: 167, Win!!!\n",
      "At episode: 168, Win!!!\n",
      "At episode: 169, Win!!!\n",
      "At episode: 170, Win!!!\n",
      "At episode: 171, Win!!!\n",
      "At episode: 172, Win!!!\n",
      "At episode: 173, Win!!!\n",
      "At episode: 174, Win!!!\n",
      "At episode: 175, Win!!!\n",
      "At episode: 176, Win!!!\n",
      "At episode: 177, Win!!!\n",
      "At episode: 178, Win!!!\n",
      "At episode: 179, Win!!!\n",
      "At episode: 180, Win!!!\n",
      "At episode: 181, Win!!!\n",
      "At episode: 182, Win!!!\n",
      "At episode: 183, Win!!!\n",
      "At episode: 186, Win!!!\n",
      "At episode: 187, Win!!!\n",
      "At episode: 188, Win!!!\n",
      "At episode: 189, Win!!!\n",
      "At episode: 190, Win!!!\n",
      "At episode: 191, Win!!!\n",
      "At episode: 192, Win!!!\n",
      "At episode: 193, Win!!!\n",
      "At episode: 194, Win!!!\n",
      "At episode: 195, Win!!!\n",
      "At episode: 196, Win!!!\n",
      "At episode: 199, Win!!!\n",
      "Finished training!\n"
     ]
    }
   ],
   "source": [
    "agent = MountainCarAgent()\n",
    "losses = agent.train(method='mc')"
   ]
  },
  {
   "cell_type": "code",
   "execution_count": 303,
   "id": "5a50dd26",
   "metadata": {
    "scrolled": false
   },
   "outputs": [
    {
     "name": "stdout",
     "output_type": "stream",
     "text": [
      "Win!!!\n"
     ]
    }
   ],
   "source": [
    "agent.run()"
   ]
  },
  {
   "cell_type": "code",
   "execution_count": 304,
   "id": "ca0fe265",
   "metadata": {},
   "outputs": [
    {
     "data": {
      "text/plain": [
       "[<matplotlib.lines.Line2D at 0x22d086752e0>]"
      ]
     },
     "execution_count": 304,
     "metadata": {},
     "output_type": "execute_result"
    },
    {
     "data": {
      "image/png": "[encoded data removed]",
      "text/plain": [
       "<Figure size 432x288 with 1 Axes>"
      ]
     },
     "metadata": {
      "needs_background": "light"
     },
     "output_type": "display_data"
    }
   ],
   "source": [
    "import matplotlib.pyplot as plt\n",
    "\n",
    "plt.plot(np.arange(200), losses)"
   ]
  },
  {
   "cell_type": "code",
   "execution_count": 289,
   "id": "7ccea20f",
   "metadata": {},
   "outputs": [
    {
     "name": "stdout",
     "output_type": "stream",
     "text": [
      "At episode: 196, Win!!!\n",
      "At episode: 197, Win!!!\n",
      "At episode: 198, Win!!!\n",
      "Finished training!\n"
     ]
    }
   ],
   "source": [
    "agent = MountainCarAgent()\n",
    "losses = agent.train(method='sarsa')"
   ]
  },
  {
   "cell_type": "code",
   "execution_count": 290,
   "id": "22014cae",
   "metadata": {},
   "outputs": [
    {
     "name": "stdout",
     "output_type": "stream",
     "text": [
      "Win!!!\n"
     ]
    }
   ],
   "source": [
    "agent.run()"
   ]
  },
  {
   "cell_type": "code",
   "execution_count": 291,
   "id": "9970b696",
   "metadata": {},
   "outputs": [
    {
     "data": {
      "text/plain": [
       "[<matplotlib.lines.Line2D at 0x22d089cbf40>]"
      ]
     },
     "execution_count": 291,
     "metadata": {},
     "output_type": "execute_result"
    },
    {
     "data": {
      "image/png": "[encoded data removed]",
      "text/plain": [
       "<Figure size 432x288 with 1 Axes>"
      ]
     },
     "metadata": {
      "needs_background": "light"
     },
     "output_type": "display_data"
    }
   ],
   "source": [
    "plt.plot(np.arange(200), losses)"
   ]
  },
  {
   "cell_type": "code",
   "execution_count": 292,
   "id": "b55c52ad",
   "metadata": {},
   "outputs": [
    {
     "name": "stdout",
     "output_type": "stream",
     "text": [
      "At episode: 142, Win!!!\n",
      "At episode: 157, Win!!!\n",
      "At episode: 168, Win!!!\n",
      "At episode: 198, Win!!!\n",
      "At episode: 199, Win!!!\n",
      "Finished training!\n"
     ]
    }
   ],
   "source": [
    "agent = MountainCarAgent()\n",
    "losses = agent.train(method='ql')"
   ]
  },
  {
   "cell_type": "code",
   "execution_count": 293,
   "id": "6c161177",
   "metadata": {},
   "outputs": [
    {
     "name": "stdout",
     "output_type": "stream",
     "text": [
      "Win!!!\n"
     ]
    }
   ],
   "source": [
    "agent.run()"
   ]
  },
  {
   "cell_type": "code",
   "execution_count": 294,
   "id": "1efeb689",
   "metadata": {},
   "outputs": [
    {
     "data": {
      "text/plain": [
       "[<matplotlib.lines.Line2D at 0x22d08592490>]"
      ]
     },
     "execution_count": 294,
     "metadata": {},
     "output_type": "execute_result"
    },
    {
     "data": {
      "image/png": "[encoded data removed]",
      "text/plain": [
       "<Figure size 432x288 with 1 Axes>"
      ]
     },
     "metadata": {
      "needs_background": "light"
     },
     "output_type": "display_data"
    }
   ],
   "source": [
    "plt.plot(np.arange(200), losses)"
   ]
  },
  {
   "cell_type": "code",
   "execution_count": null,
   "id": "da236bcd",
   "metadata": {},
   "outputs": [],
   "source": []
  }
 ],
 "metadata": {
  "kernelspec": {
   "display_name": "Python 3 (ipykernel)",
   "language": "python",
   "name": "python3"
  },
  "language_info": {
   "codemirror_mode": {
    "name": "ipython",
    "version": 3
   },
   "file_extension": ".py",
   "mimetype": "text/x-python",
   "name": "python",
   "nbconvert_exporter": "python",
   "pygments_lexer": "ipython3",
   "version": "3.9.7"
  }
 },
 "nbformat": 4,
 "nbformat_minor": 5
}
